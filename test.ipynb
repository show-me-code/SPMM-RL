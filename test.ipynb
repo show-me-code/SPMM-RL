{
 "metadata": {
  "language_info": {
   "codemirror_mode": {
    "name": "ipython",
    "version": 3
   },
   "file_extension": ".py",
   "mimetype": "text/x-python",
   "name": "python",
   "nbconvert_exporter": "python",
   "pygments_lexer": "ipython3",
   "version": "3.7.8"
  },
  "orig_nbformat": 4,
  "kernelspec": {
   "name": "python3",
   "display_name": "Python 3.7.8 64-bit ('py37': conda)"
  },
  "interpreter": {
   "hash": "5a61c74f67c793b71ea95a3f84f0c06cdef59f23163a88976d4624bbb2a5a023"
  }
 },
 "nbformat": 4,
 "nbformat_minor": 2,
 "cells": [
  {
   "cell_type": "code",
   "execution_count": 11,
   "metadata": {},
   "outputs": [],
   "source": [
    "import scipy as sc\n",
    "import scipy.sparse as sparse\n",
    "from scipy.io import mmread, mmwrite, mminfo\n",
    "import numpy as np\n",
    "from sys import getsizeof\n",
    "from copy import deepcopy"
   ]
  },
  {
   "cell_type": "code",
   "execution_count": 12,
   "metadata": {},
   "outputs": [
    {
     "output_type": "stream",
     "name": "stdout",
     "text": [
      "822\n"
     ]
    }
   ],
   "source": [
    "matrix = mmread('./dataset/59.mtx')\n",
    "print(np.size(matrix.toarray()[1]))\n"
   ]
  },
  {
   "cell_type": "code",
   "execution_count": 13,
   "metadata": {},
   "outputs": [
    {
     "output_type": "stream",
     "name": "stdout",
     "text": [
      "5405584\n"
     ]
    }
   ],
   "source": [
    "matrix2 = deepcopy(matrix)\n",
    "matrix2 = matrix2.todia()\n",
    "print(getsizeof(np.array(matrix2.todense())))"
   ]
  }
 ]
}